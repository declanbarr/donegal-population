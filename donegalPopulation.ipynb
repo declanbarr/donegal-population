{
 "cells": [
  {
   "cell_type": "markdown",
   "metadata": {},
   "source": [
    "# Analysis of the population and dwelling occupancy/vacancy rates in Donegal\n"
   ]
  },
  {
   "cell_type": "code",
   "execution_count": 1,
   "metadata": {},
   "outputs": [
    {
     "name": "stdout",
     "output_type": "stream",
     "text": [
      "                             Townlands            Statistic  DATA\n",
      "18480  Sesnacully, Raphoe, Co. Donegal  Population (Number)  12.0\n"
     ]
    }
   ],
   "source": [
    "# Importing pyaxis in order to read .px file type\n",
    "from pyaxis import pyaxis\n",
    "import pandas as pd\n",
    "import numpy as np\n",
    "\n",
    "# URL for dataset containing information on the population and dwelling occupancy/vacancy rates in dongeal, from CSO.ie\n",
    "donegalDataURL = 'https://www.cso.ie/px/pxeirestat/Database/eirestat/Profile%201%20-%20Geography/CD154.px'\n",
    "\n",
    "# Parsing the file - This will give the [\"METADATA\"] and [\"DATA\"] subsets\n",
    "px = pyaxis.parse(donegalDataURL, encoding='ISO-8859-2')\n",
    "\n",
    "# Creating a Pandas DataFrame from the [\"DATA\"]\n",
    "df = pd.DataFrame.from_dict(px[\"DATA\"])\n",
    "\n",
    "# Finding the number of rows and colums so that max_rows can be set\n",
    "rows, columns = df.shape\n",
    "\n",
    "# Setting max rows\n",
    "pd.set_option('display.max_rows', rows)\n",
    "\n",
    "# Displaying the population number for the townland of Sesnacully, Raphoe, Co. Donegal\n",
    "print(df.loc[(df[\"Townlands\"] == \"Sesnacully, Raphoe, Co. Donegal\") & (df[\"Statistic\"] == \"Population (Number)\"), [\"Townlands\", \"Statistic\", \"DATA\"]])"
   ]
  },
  {
   "cell_type": "code",
   "execution_count": 2,
   "metadata": {},
   "outputs": [
    {
     "data": {
      "text/html": [
       "<div>\n",
       "<style scoped>\n",
       "    .dataframe tbody tr th:only-of-type {\n",
       "        vertical-align: middle;\n",
       "    }\n",
       "\n",
       "    .dataframe tbody tr th {\n",
       "        vertical-align: top;\n",
       "    }\n",
       "\n",
       "    .dataframe thead th {\n",
       "        text-align: right;\n",
       "    }\n",
       "</style>\n",
       "<table border=\"1\" class=\"dataframe\">\n",
       "  <thead>\n",
       "    <tr style=\"text-align: right;\">\n",
       "      <th></th>\n",
       "      <th>Townlands</th>\n",
       "      <th>CensusYear</th>\n",
       "      <th>Statistic</th>\n",
       "      <th>DATA</th>\n",
       "    </tr>\n",
       "  </thead>\n",
       "  <tbody>\n",
       "    <tr>\n",
       "      <th>0</th>\n",
       "      <td>Abbernadoorny, Donegal, Co. Donegal</td>\n",
       "      <td>2011</td>\n",
       "      <td>Population (Number)</td>\n",
       "      <td>NaN</td>\n",
       "    </tr>\n",
       "    <tr>\n",
       "      <th>1</th>\n",
       "      <td>Abbernadoorny, Donegal, Co. Donegal</td>\n",
       "      <td>2011</td>\n",
       "      <td>Males (Number)</td>\n",
       "      <td>NaN</td>\n",
       "    </tr>\n",
       "    <tr>\n",
       "      <th>2</th>\n",
       "      <td>Abbernadoorny, Donegal, Co. Donegal</td>\n",
       "      <td>2011</td>\n",
       "      <td>Females (Number)</td>\n",
       "      <td>NaN</td>\n",
       "    </tr>\n",
       "    <tr>\n",
       "      <th>3</th>\n",
       "      <td>Abbernadoorny, Donegal, Co. Donegal</td>\n",
       "      <td>2011</td>\n",
       "      <td>Private households occupied (Number)</td>\n",
       "      <td>NaN</td>\n",
       "    </tr>\n",
       "    <tr>\n",
       "      <th>4</th>\n",
       "      <td>Abbernadoorny, Donegal, Co. Donegal</td>\n",
       "      <td>2011</td>\n",
       "      <td>Private households unoccupied (Number)</td>\n",
       "      <td>NaN</td>\n",
       "    </tr>\n",
       "    <tr>\n",
       "      <th>5</th>\n",
       "      <td>Abbernadoorny, Donegal, Co. Donegal</td>\n",
       "      <td>2011</td>\n",
       "      <td>Vacant dwellings (Number)</td>\n",
       "      <td>NaN</td>\n",
       "    </tr>\n",
       "    <tr>\n",
       "      <th>6</th>\n",
       "      <td>Abbernadoorny, Donegal, Co. Donegal</td>\n",
       "      <td>2011</td>\n",
       "      <td>Housing stock (Number)</td>\n",
       "      <td>NaN</td>\n",
       "    </tr>\n",
       "    <tr>\n",
       "      <th>7</th>\n",
       "      <td>Abbernadoorny, Donegal, Co. Donegal</td>\n",
       "      <td>2011</td>\n",
       "      <td>Vacancy rate (%)</td>\n",
       "      <td>NaN</td>\n",
       "    </tr>\n",
       "    <tr>\n",
       "      <th>8</th>\n",
       "      <td>Abbey Island, Ballyshannon Rural, Co. Donegal</td>\n",
       "      <td>2011</td>\n",
       "      <td>Population (Number)</td>\n",
       "      <td>12.0</td>\n",
       "    </tr>\n",
       "    <tr>\n",
       "      <th>9</th>\n",
       "      <td>Abbey Island, Ballyshannon Rural, Co. Donegal</td>\n",
       "      <td>2011</td>\n",
       "      <td>Males (Number)</td>\n",
       "      <td>8.0</td>\n",
       "    </tr>\n",
       "  </tbody>\n",
       "</table>\n",
       "</div>"
      ],
      "text/plain": [
       "                                       Townlands CensusYear  \\\n",
       "0            Abbernadoorny, Donegal, Co. Donegal       2011   \n",
       "1            Abbernadoorny, Donegal, Co. Donegal       2011   \n",
       "2            Abbernadoorny, Donegal, Co. Donegal       2011   \n",
       "3            Abbernadoorny, Donegal, Co. Donegal       2011   \n",
       "4            Abbernadoorny, Donegal, Co. Donegal       2011   \n",
       "5            Abbernadoorny, Donegal, Co. Donegal       2011   \n",
       "6            Abbernadoorny, Donegal, Co. Donegal       2011   \n",
       "7            Abbernadoorny, Donegal, Co. Donegal       2011   \n",
       "8  Abbey Island, Ballyshannon Rural, Co. Donegal       2011   \n",
       "9  Abbey Island, Ballyshannon Rural, Co. Donegal       2011   \n",
       "\n",
       "                                Statistic  DATA  \n",
       "0                     Population (Number)   NaN  \n",
       "1                          Males (Number)   NaN  \n",
       "2                        Females (Number)   NaN  \n",
       "3    Private households occupied (Number)   NaN  \n",
       "4  Private households unoccupied (Number)   NaN  \n",
       "5               Vacant dwellings (Number)   NaN  \n",
       "6                  Housing stock (Number)   NaN  \n",
       "7                        Vacancy rate (%)   NaN  \n",
       "8                     Population (Number)  12.0  \n",
       "9                          Males (Number)   8.0  "
      ]
     },
     "execution_count": 2,
     "metadata": {},
     "output_type": "execute_result"
    }
   ],
   "source": [
    "df.head(10)"
   ]
  },
  {
   "cell_type": "code",
   "execution_count": 3,
   "metadata": {},
   "outputs": [
    {
     "data": {
      "text/plain": [
       "Townlands      object\n",
       "CensusYear     object\n",
       "Statistic      object\n",
       "DATA          float64\n",
       "dtype: object"
      ]
     },
     "execution_count": 3,
     "metadata": {},
     "output_type": "execute_result"
    }
   ],
   "source": [
    "df[\"DATA\"] = df[\"DATA\"].astype(float)\n",
    "\n",
    "df.dtypes"
   ]
  },
  {
   "cell_type": "code",
   "execution_count": 4,
   "metadata": {},
   "outputs": [],
   "source": [
    "dfDroppedNaNs = df.dropna()"
   ]
  },
  {
   "cell_type": "code",
   "execution_count": 5,
   "metadata": {},
   "outputs": [
    {
     "data": {
      "text/html": [
       "<div>\n",
       "<style scoped>\n",
       "    .dataframe tbody tr th:only-of-type {\n",
       "        vertical-align: middle;\n",
       "    }\n",
       "\n",
       "    .dataframe tbody tr th {\n",
       "        vertical-align: top;\n",
       "    }\n",
       "\n",
       "    .dataframe thead th {\n",
       "        text-align: right;\n",
       "    }\n",
       "</style>\n",
       "<table border=\"1\" class=\"dataframe\">\n",
       "  <thead>\n",
       "    <tr style=\"text-align: right;\">\n",
       "      <th></th>\n",
       "      <th>Townlands</th>\n",
       "      <th>CensusYear</th>\n",
       "      <th>Statistic</th>\n",
       "      <th>DATA</th>\n",
       "    </tr>\n",
       "  </thead>\n",
       "  <tbody>\n",
       "    <tr>\n",
       "      <th>8</th>\n",
       "      <td>Abbey Island, Ballyshannon Rural, Co. Donegal</td>\n",
       "      <td>2011</td>\n",
       "      <td>Population (Number)</td>\n",
       "      <td>12.0</td>\n",
       "    </tr>\n",
       "    <tr>\n",
       "      <th>9</th>\n",
       "      <td>Abbey Island, Ballyshannon Rural, Co. Donegal</td>\n",
       "      <td>2011</td>\n",
       "      <td>Males (Number)</td>\n",
       "      <td>8.0</td>\n",
       "    </tr>\n",
       "    <tr>\n",
       "      <th>10</th>\n",
       "      <td>Abbey Island, Ballyshannon Rural, Co. Donegal</td>\n",
       "      <td>2011</td>\n",
       "      <td>Females (Number)</td>\n",
       "      <td>4.0</td>\n",
       "    </tr>\n",
       "    <tr>\n",
       "      <th>11</th>\n",
       "      <td>Abbey Island, Ballyshannon Rural, Co. Donegal</td>\n",
       "      <td>2011</td>\n",
       "      <td>Private households occupied (Number)</td>\n",
       "      <td>5.0</td>\n",
       "    </tr>\n",
       "    <tr>\n",
       "      <th>12</th>\n",
       "      <td>Abbey Island, Ballyshannon Rural, Co. Donegal</td>\n",
       "      <td>2011</td>\n",
       "      <td>Private households unoccupied (Number)</td>\n",
       "      <td>1.0</td>\n",
       "    </tr>\n",
       "    <tr>\n",
       "      <th>13</th>\n",
       "      <td>Abbey Island, Ballyshannon Rural, Co. Donegal</td>\n",
       "      <td>2011</td>\n",
       "      <td>Vacant dwellings (Number)</td>\n",
       "      <td>1.0</td>\n",
       "    </tr>\n",
       "    <tr>\n",
       "      <th>14</th>\n",
       "      <td>Abbey Island, Ballyshannon Rural, Co. Donegal</td>\n",
       "      <td>2011</td>\n",
       "      <td>Housing stock (Number)</td>\n",
       "      <td>6.0</td>\n",
       "    </tr>\n",
       "    <tr>\n",
       "      <th>15</th>\n",
       "      <td>Abbey Island, Ballyshannon Rural, Co. Donegal</td>\n",
       "      <td>2011</td>\n",
       "      <td>Vacancy rate (%)</td>\n",
       "      <td>16.7</td>\n",
       "    </tr>\n",
       "    <tr>\n",
       "      <th>16</th>\n",
       "      <td>Abbeylands, Ballyshannon Rural, Co. Donegal</td>\n",
       "      <td>2011</td>\n",
       "      <td>Population (Number)</td>\n",
       "      <td>135.0</td>\n",
       "    </tr>\n",
       "    <tr>\n",
       "      <th>17</th>\n",
       "      <td>Abbeylands, Ballyshannon Rural, Co. Donegal</td>\n",
       "      <td>2011</td>\n",
       "      <td>Males (Number)</td>\n",
       "      <td>70.0</td>\n",
       "    </tr>\n",
       "  </tbody>\n",
       "</table>\n",
       "</div>"
      ],
      "text/plain": [
       "                                        Townlands CensusYear  \\\n",
       "8   Abbey Island, Ballyshannon Rural, Co. Donegal       2011   \n",
       "9   Abbey Island, Ballyshannon Rural, Co. Donegal       2011   \n",
       "10  Abbey Island, Ballyshannon Rural, Co. Donegal       2011   \n",
       "11  Abbey Island, Ballyshannon Rural, Co. Donegal       2011   \n",
       "12  Abbey Island, Ballyshannon Rural, Co. Donegal       2011   \n",
       "13  Abbey Island, Ballyshannon Rural, Co. Donegal       2011   \n",
       "14  Abbey Island, Ballyshannon Rural, Co. Donegal       2011   \n",
       "15  Abbey Island, Ballyshannon Rural, Co. Donegal       2011   \n",
       "16    Abbeylands, Ballyshannon Rural, Co. Donegal       2011   \n",
       "17    Abbeylands, Ballyshannon Rural, Co. Donegal       2011   \n",
       "\n",
       "                                 Statistic   DATA  \n",
       "8                      Population (Number)   12.0  \n",
       "9                           Males (Number)    8.0  \n",
       "10                        Females (Number)    4.0  \n",
       "11    Private households occupied (Number)    5.0  \n",
       "12  Private households unoccupied (Number)    1.0  \n",
       "13               Vacant dwellings (Number)    1.0  \n",
       "14                  Housing stock (Number)    6.0  \n",
       "15                        Vacancy rate (%)   16.7  \n",
       "16                     Population (Number)  135.0  \n",
       "17                          Males (Number)   70.0  "
      ]
     },
     "execution_count": 5,
     "metadata": {},
     "output_type": "execute_result"
    }
   ],
   "source": [
    "dfDroppedNaNs.head(10)"
   ]
  },
  {
   "cell_type": "code",
   "execution_count": 6,
   "metadata": {},
   "outputs": [
    {
     "data": {
      "text/html": [
       "<div>\n",
       "<style scoped>\n",
       "    .dataframe tbody tr th:only-of-type {\n",
       "        vertical-align: middle;\n",
       "    }\n",
       "\n",
       "    .dataframe tbody tr th {\n",
       "        vertical-align: top;\n",
       "    }\n",
       "\n",
       "    .dataframe thead th {\n",
       "        text-align: right;\n",
       "    }\n",
       "</style>\n",
       "<table border=\"1\" class=\"dataframe\">\n",
       "  <thead>\n",
       "    <tr style=\"text-align: right;\">\n",
       "      <th></th>\n",
       "      <th>DATA</th>\n",
       "    </tr>\n",
       "  </thead>\n",
       "  <tbody>\n",
       "    <tr>\n",
       "      <th>13</th>\n",
       "      <td>1.0</td>\n",
       "    </tr>\n",
       "    <tr>\n",
       "      <th>21</th>\n",
       "      <td>22.0</td>\n",
       "    </tr>\n",
       "    <tr>\n",
       "      <th>29</th>\n",
       "      <td>5.0</td>\n",
       "    </tr>\n",
       "    <tr>\n",
       "      <th>37</th>\n",
       "      <td>3.0</td>\n",
       "    </tr>\n",
       "    <tr>\n",
       "      <th>45</th>\n",
       "      <td>17.0</td>\n",
       "    </tr>\n",
       "  </tbody>\n",
       "</table>\n",
       "</div>"
      ],
      "text/plain": [
       "    DATA\n",
       "13   1.0\n",
       "21  22.0\n",
       "29   5.0\n",
       "37   3.0\n",
       "45  17.0"
      ]
     },
     "execution_count": 6,
     "metadata": {},
     "output_type": "execute_result"
    }
   ],
   "source": [
    "vacantDwellings = dfDroppedNaNs.loc[(df[\"Statistic\"] == \"Vacant dwellings (Number)\"), [\"DATA\"]]\n",
    "\n",
    "vacantDwellings.head()"
   ]
  },
  {
   "cell_type": "code",
   "execution_count": 7,
   "metadata": {},
   "outputs": [
    {
     "data": {
      "text/html": [
       "<div>\n",
       "<style scoped>\n",
       "    .dataframe tbody tr th:only-of-type {\n",
       "        vertical-align: middle;\n",
       "    }\n",
       "\n",
       "    .dataframe tbody tr th {\n",
       "        vertical-align: top;\n",
       "    }\n",
       "\n",
       "    .dataframe thead th {\n",
       "        text-align: right;\n",
       "    }\n",
       "</style>\n",
       "<table border=\"1\" class=\"dataframe\">\n",
       "  <thead>\n",
       "    <tr style=\"text-align: right;\">\n",
       "      <th></th>\n",
       "      <th>DATA</th>\n",
       "    </tr>\n",
       "  </thead>\n",
       "  <tbody>\n",
       "    <tr>\n",
       "      <th>14</th>\n",
       "      <td>6.0</td>\n",
       "    </tr>\n",
       "    <tr>\n",
       "      <th>22</th>\n",
       "      <td>79.0</td>\n",
       "    </tr>\n",
       "    <tr>\n",
       "      <th>30</th>\n",
       "      <td>21.0</td>\n",
       "    </tr>\n",
       "    <tr>\n",
       "      <th>38</th>\n",
       "      <td>7.0</td>\n",
       "    </tr>\n",
       "    <tr>\n",
       "      <th>46</th>\n",
       "      <td>139.0</td>\n",
       "    </tr>\n",
       "  </tbody>\n",
       "</table>\n",
       "</div>"
      ],
      "text/plain": [
       "     DATA\n",
       "14    6.0\n",
       "22   79.0\n",
       "30   21.0\n",
       "38    7.0\n",
       "46  139.0"
      ]
     },
     "execution_count": 7,
     "metadata": {},
     "output_type": "execute_result"
    }
   ],
   "source": [
    "housingStock = dfDroppedNaNs.loc[(df[\"Statistic\"] == \"Housing stock (Number)\"), [\"DATA\"]]\n",
    "\n",
    "housingStock.head()"
   ]
  },
  {
   "cell_type": "code",
   "execution_count": 8,
   "metadata": {},
   "outputs": [],
   "source": [
    "totalVacantDwellings = np.sum(vacantDwellings)\n",
    "\n",
    "totalHousingStock = np.sum(housingStock)"
   ]
  },
  {
   "cell_type": "code",
   "execution_count": 9,
   "metadata": {},
   "outputs": [
    {
     "data": {
      "text/plain": [
       "DATA    23546.0\n",
       "dtype: float64"
      ]
     },
     "execution_count": 9,
     "metadata": {},
     "output_type": "execute_result"
    }
   ],
   "source": [
    "totalVacantDwellings"
   ]
  },
  {
   "cell_type": "code",
   "execution_count": 10,
   "metadata": {},
   "outputs": [
    {
     "data": {
      "text/plain": [
       "DATA    82960.0\n",
       "dtype: float64"
      ]
     },
     "execution_count": 10,
     "metadata": {},
     "output_type": "execute_result"
    }
   ],
   "source": [
    "totalHousingStock"
   ]
  },
  {
   "cell_type": "code",
   "execution_count": 11,
   "metadata": {},
   "outputs": [],
   "source": [
    "totalPercentVacant = totalVacantDwellings/totalHousingStock*100"
   ]
  },
  {
   "cell_type": "code",
   "execution_count": 12,
   "metadata": {},
   "outputs": [
    {
     "data": {
      "text/plain": [
       "DATA    28.382353\n",
       "dtype: float64"
      ]
     },
     "execution_count": 12,
     "metadata": {},
     "output_type": "execute_result"
    }
   ],
   "source": [
    "totalPercentVacant"
   ]
  },
  {
   "cell_type": "code",
   "execution_count": 13,
   "metadata": {},
   "outputs": [],
   "source": [
    "totalStatistics = dfDroppedNaNs.groupby([\"Statistic\"]).sum()"
   ]
  },
  {
   "cell_type": "code",
   "execution_count": 14,
   "metadata": {},
   "outputs": [
    {
     "data": {
      "text/html": [
       "<div>\n",
       "<style scoped>\n",
       "    .dataframe tbody tr th:only-of-type {\n",
       "        vertical-align: middle;\n",
       "    }\n",
       "\n",
       "    .dataframe tbody tr th {\n",
       "        vertical-align: top;\n",
       "    }\n",
       "\n",
       "    .dataframe thead th {\n",
       "        text-align: right;\n",
       "    }\n",
       "</style>\n",
       "<table border=\"1\" class=\"dataframe\">\n",
       "  <thead>\n",
       "    <tr style=\"text-align: right;\">\n",
       "      <th></th>\n",
       "      <th>DATA</th>\n",
       "    </tr>\n",
       "    <tr>\n",
       "      <th>Statistic</th>\n",
       "      <th></th>\n",
       "    </tr>\n",
       "  </thead>\n",
       "  <tbody>\n",
       "    <tr>\n",
       "      <th>Females (Number)</th>\n",
       "      <td>80010.0</td>\n",
       "    </tr>\n",
       "    <tr>\n",
       "      <th>Housing stock (Number)</th>\n",
       "      <td>82960.0</td>\n",
       "    </tr>\n",
       "    <tr>\n",
       "      <th>Males (Number)</th>\n",
       "      <td>79784.0</td>\n",
       "    </tr>\n",
       "    <tr>\n",
       "      <th>Population (Number)</th>\n",
       "      <td>159794.0</td>\n",
       "    </tr>\n",
       "    <tr>\n",
       "      <th>Private households occupied (Number)</th>\n",
       "      <td>57810.0</td>\n",
       "    </tr>\n",
       "    <tr>\n",
       "      <th>Private households unoccupied (Number)</th>\n",
       "      <td>25150.0</td>\n",
       "    </tr>\n",
       "    <tr>\n",
       "      <th>Vacancy rate (%)</th>\n",
       "      <td>56259.5</td>\n",
       "    </tr>\n",
       "    <tr>\n",
       "      <th>Vacant dwellings (Number)</th>\n",
       "      <td>23546.0</td>\n",
       "    </tr>\n",
       "  </tbody>\n",
       "</table>\n",
       "</div>"
      ],
      "text/plain": [
       "                                            DATA\n",
       "Statistic                                       \n",
       "Females (Number)                         80010.0\n",
       "Housing stock (Number)                   82960.0\n",
       "Males (Number)                           79784.0\n",
       "Population (Number)                     159794.0\n",
       "Private households occupied (Number)     57810.0\n",
       "Private households unoccupied (Number)   25150.0\n",
       "Vacancy rate (%)                         56259.5\n",
       "Vacant dwellings (Number)                23546.0"
      ]
     },
     "execution_count": 14,
     "metadata": {},
     "output_type": "execute_result"
    }
   ],
   "source": [
    "totalStatistics"
   ]
  },
  {
   "cell_type": "code",
   "execution_count": 15,
   "metadata": {},
   "outputs": [
    {
     "data": {
      "text/plain": [
       "DATA    28.382353\n",
       "dtype: float64"
      ]
     },
     "execution_count": 15,
     "metadata": {},
     "output_type": "execute_result"
    }
   ],
   "source": [
    "totalStatistics.loc[\"Vacant dwellings (Number)\"]/totalStatistics.loc[\"Housing stock (Number)\"]* 100"
   ]
  }
 ],
 "metadata": {
  "kernelspec": {
   "display_name": "Python 3",
   "language": "python",
   "name": "python3"
  },
  "language_info": {
   "codemirror_mode": {
    "name": "ipython",
    "version": 3
   },
   "file_extension": ".py",
   "mimetype": "text/x-python",
   "name": "python",
   "nbconvert_exporter": "python",
   "pygments_lexer": "ipython3",
   "version": "3.6.7"
  }
 },
 "nbformat": 4,
 "nbformat_minor": 2
}
