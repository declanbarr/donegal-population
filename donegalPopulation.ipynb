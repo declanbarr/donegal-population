{
 "cells": [
  {
   "cell_type": "markdown",
   "metadata": {},
   "source": [
    "# Analysis of the population and dwelling occupancy/vacancy rates in Donegal\n"
   ]
  },
  {
   "cell_type": "code",
   "execution_count": 1,
   "metadata": {},
   "outputs": [
    {
     "name": "stdout",
     "output_type": "stream",
     "text": [
      "                             Townlands            Statistic  DATA\n",
      "18480  Sesnacully, Raphoe, Co. Donegal  Population (Number)  12.0\n"
     ]
    }
   ],
   "source": [
    "# Importing pyaxis in order to read .px file type\n",
    "from pyaxis import pyaxis\n",
    "import pandas as pd\n",
    "\n",
    "# URL for dataset containing information on the population and dwelling occupancy/vacancy rates in dongeal, from CSO.ie\n",
    "donegalDataURL = 'https://www.cso.ie/px/pxeirestat/Database/eirestat/Profile%201%20-%20Geography/CD154.px'\n",
    "\n",
    "# Parsing the file - This will give the [\"METADATA\"] and [\"DATA\"] subsets\n",
    "px = pyaxis.parse(donegalDataURL, encoding='ISO-8859-2')\n",
    "\n",
    "# Creating a Pandas DataFrame from the [\"DATA\"]\n",
    "df = pd.DataFrame.from_dict(px[\"DATA\"])\n",
    "\n",
    "# Finding the number of rows and colums so that max_rows can be set\n",
    "rows, columns = df.shape\n",
    "\n",
    "# Setting max rows\n",
    "pd.set_option('display.max_rows', rows)\n",
    "\n",
    "# Displaying the population number for the townland of Sesnacully, Raphoe, Co. Donegal\n",
    "print(df.loc[(df[\"Townlands\"] == \"Sesnacully, Raphoe, Co. Donegal\") & (df[\"Statistic\"] == \"Population (Number)\"), [\"Townlands\", \"Statistic\", \"DATA\"]])"
   ]
  }
 ],
 "metadata": {
  "kernelspec": {
   "display_name": "Python 3",
   "language": "python",
   "name": "python3"
  },
  "language_info": {
   "codemirror_mode": {
    "name": "ipython",
    "version": 3
   },
   "file_extension": ".py",
   "mimetype": "text/x-python",
   "name": "python",
   "nbconvert_exporter": "python",
   "pygments_lexer": "ipython3",
   "version": "3.6.7"
  }
 },
 "nbformat": 4,
 "nbformat_minor": 2
}
